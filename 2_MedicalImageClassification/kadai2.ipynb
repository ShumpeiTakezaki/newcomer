{
 "cells": [
  {
   "cell_type": "code",
   "execution_count": 9,
   "metadata": {},
   "outputs": [
    {
     "name": "stdout",
     "output_type": "stream",
     "text": [
      "test/0/1.png\n"
     ]
    }
   ],
   "source": [
    "\"https://symfoware.blog.fc2.com/blog-entry-2468.html\"\n",
    "\n",
    "import tarfile\n",
    "\n",
    "with tarfile.open(name=\"Dataset/test.tar.gz\", mode='r') as tar:\n",
    "    for info in tar.getmembers():\n",
    "        if \"png\" in info.name:\n",
    "            print(info.name)\n",
    "            file = tar.extractfile(info)\n",
    "            with open(\"check.jpg\", \"wb\") as c:\n",
    "                c.write(file.read())\n",
    "            break"
   ]
  },
  {
   "cell_type": "code",
   "execution_count": 11,
   "metadata": {},
   "outputs": [],
   "source": [
    "import numpy as np\n",
    "import cv2\n",
    "img = cv2.imread(\"check.jpg\")"
   ]
  },
  {
   "cell_type": "code",
   "execution_count": 18,
   "metadata": {},
   "outputs": [
    {
     "data": {
      "text/plain": [
       "0"
      ]
     },
     "execution_count": 18,
     "metadata": {},
     "output_type": "execute_result"
    }
   ],
   "source": []
  }
 ],
 "metadata": {
  "interpreter": {
   "hash": "40b00a991b816c61bd5f22747cfd8ecd7b01692eb4d7d8c2bc0c5e38d4ca9f7b"
  },
  "kernelspec": {
   "display_name": "Python 3.7.10 ('myenv_torch')",
   "language": "python",
   "name": "python3"
  },
  "language_info": {
   "codemirror_mode": {
    "name": "ipython",
    "version": 3
   },
   "file_extension": ".py",
   "mimetype": "text/x-python",
   "name": "python",
   "nbconvert_exporter": "python",
   "pygments_lexer": "ipython3",
   "version": "3.7.10"
  },
  "orig_nbformat": 4
 },
 "nbformat": 4,
 "nbformat_minor": 2
}
