{
 "cells": [
  {
   "cell_type": "code",
   "execution_count": null,
   "metadata": {},
   "outputs": [],
   "source": [
    "from torchvision import models, transforms\n",
    "import torchvison\n",
    "import torch\n",
    "import torch.nn as nn\n",
    "\n",
    "from utils import load_image"
   ]
  },
  {
   "cell_type": "code",
   "execution_count": null,
   "metadata": {},
   "outputs": [],
   "source": [
    "model_name = 'resnet50'\n",
    "dir_name = f'result/{model_name}'\n",
    "model_path = f'{dir_name}/{model_name}.pth'\n",
    "\n",
    "def extract(target, inputs):\n",
    "    feature = None\n",
    "\n",
    "    def forward_hook(module, inputs, outputs):\n",
    "        global features\n",
    "\n",
    "        features = outputs.detach().clone()\n",
    "\n",
    "    handle = target.register_forward_hook(forward_hook)\n",
    "\n",
    "    model.eval()\n",
    "    model(inputs)\n",
    "\n",
    "    handle.remove()\n",
    "    \n",
    "    return features\n",
    "\n",
    "def feature_to_img(feature, nrow=4):\n",
    "\n",
    "    feature = feature.unsqueeze(1)\n",
    "\n",
    "    img = torchvision.utils.make_grid(feature.cpu(), nrow=nrow, normalize=True, pad_value=1)\n",
    "\n",
    "    img = transforms.functional.to_pil_image(img)\n",
    "    \n",
    "    new_w = 500\n",
    "    new_h = int(new_w*img.height / img.width)\n",
    "    img = img.resize((new_w, new_h))\n",
    "\n",
    "    return img"
   ]
  },
  {
   "cell_type": "code",
   "execution_count": null,
   "metadata": {},
   "outputs": [],
   "source": [
    "device = torch.device(\"cuda\")\n",
    "\n",
    "model = models.resnet50(pretrained=False)\n",
    "\n",
    "model.conv1 = nn.Conv2d(1, 64, kernel_size=(7, 7), stride=(2, 2), padding=(3, 3), bias=False)\n",
    "model.fc = nn.Sequential(nn.Linear(2048,1, bias=True),  nn.Sigmoid())\n",
    "\n",
    "model = model.to(device)\n",
    "model.load_state_dict(torch.load(model_path))"
   ]
  },
  {
   "cell_type": "code",
   "execution_count": null,
   "metadata": {},
   "outputs": [],
   "source": [
    "target_module = model.layer1[2].relu\n",
    "\n",
    "inputs = load_image('result/resnet50/incorrect_mri/0/9.png')\n",
    "transform = transforms.Compose([\n",
    "    transforms.ToTensor(),\n",
    "])\n",
    "\n",
    "inputs = transform(inputs)\n",
    "inputs = inputs.unsqueeze(0).to(device)\n",
    "\n",
    "features = extract(target_module, inputs)\n",
    "print(features.shape)"
   ]
  },
  {
   "cell_type": "code",
   "execution_count": null,
   "metadata": {},
   "outputs": [],
   "source": [
    "img = feature_to_img(features[0][:16])\n",
    "img"
   ]
  }
 ],
 "metadata": {
  "language_info": {
   "name": "python"
  },
  "orig_nbformat": 4
 },
 "nbformat": 4,
 "nbformat_minor": 2
}
